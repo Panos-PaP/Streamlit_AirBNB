{
 "cells": [
  {
   "cell_type": "markdown",
   "id": "6d4d806e",
   "metadata": {},
   "source": [
    "# Clean the Airbnb Dataset"
   ]
  },
  {
   "cell_type": "markdown",
   "id": "51d40010",
   "metadata": {},
   "source": [
    "## Downloading the Dataset\n",
    "\n",
    "You will need to download some prerequisite packages in order to run all the code below. Let's install them!"
   ]
  },
  {
   "cell_type": "code",
   "execution_count": 2,
   "id": "921321b0",
   "metadata": {},
   "outputs": [
    {
     "name": "stdout",
     "output_type": "stream",
     "text": [
      "Requirement already satisfied: pandas in c:\\users\\panos\\anaconda3\\envs\\py310\\lib\\site-packages (1.5.2)\n",
      "Requirement already satisfied: streamlit in c:\\users\\panos\\anaconda3\\envs\\py310\\lib\\site-packages (1.20.0)\n",
      "Collecting gdown\n",
      "  Downloading gdown-4.6.4-py3-none-any.whl (14 kB)\n",
      "Collecting currencyconverter\n",
      "  Downloading CurrencyConverter-0.17.5-py3-none-any.whl (563 kB)\n",
      "     -------------------------------------- 563.6/563.6 kB 2.1 MB/s eta 0:00:00\n",
      "Requirement already satisfied: pytz>=2020.1 in c:\\users\\panos\\anaconda3\\envs\\py310\\lib\\site-packages (from pandas) (2022.6)\n",
      "Requirement already satisfied: python-dateutil>=2.8.1 in c:\\users\\panos\\anaconda3\\envs\\py310\\lib\\site-packages (from pandas) (2.8.2)\n",
      "Requirement already satisfied: importlib-metadata>=1.4 in c:\\users\\panos\\anaconda3\\envs\\py310\\lib\\site-packages (from streamlit) (6.0.0)\n",
      "Requirement already satisfied: rich>=10.11.0 in c:\\users\\panos\\anaconda3\\envs\\py310\\lib\\site-packages (from streamlit) (13.3.2)\n",
      "Requirement already satisfied: altair<5,>=3.2.0 in c:\\users\\panos\\anaconda3\\envs\\py310\\lib\\site-packages (from streamlit) (4.2.2)\n",
      "Requirement already satisfied: typing-extensions>=3.10.0.0 in c:\\users\\panos\\anaconda3\\envs\\py310\\lib\\site-packages (from streamlit) (4.4.0)\n",
      "Requirement already satisfied: toml in c:\\users\\panos\\anaconda3\\envs\\py310\\lib\\site-packages (from streamlit) (0.10.2)\n",
      "Requirement already satisfied: requests>=2.4 in c:\\users\\panos\\anaconda3\\envs\\py310\\lib\\site-packages (from streamlit) (2.28.1)\n",
      "Requirement already satisfied: packaging>=14.1 in c:\\users\\panos\\anaconda3\\envs\\py310\\lib\\site-packages (from streamlit) (21.3)\n",
      "Requirement already satisfied: pillow>=6.2.0 in c:\\users\\panos\\anaconda3\\envs\\py310\\lib\\site-packages (from streamlit) (9.3.0)\n",
      "Requirement already satisfied: watchdog in c:\\users\\panos\\anaconda3\\envs\\py310\\lib\\site-packages (from streamlit) (2.3.1)\n",
      "Requirement already satisfied: click>=7.0 in c:\\users\\panos\\anaconda3\\envs\\py310\\lib\\site-packages (from streamlit) (8.1.3)\n",
      "Requirement already satisfied: pyarrow>=4.0 in c:\\users\\panos\\anaconda3\\envs\\py310\\lib\\site-packages (from streamlit) (11.0.0)\n",
      "Requirement already satisfied: pydeck>=0.1.dev5 in c:\\users\\panos\\anaconda3\\envs\\py310\\lib\\site-packages (from streamlit) (0.8.0)\n",
      "Requirement already satisfied: blinker>=1.0.0 in c:\\users\\panos\\anaconda3\\envs\\py310\\lib\\site-packages (from streamlit) (1.5)\n",
      "Requirement already satisfied: tzlocal>=1.1 in c:\\users\\panos\\anaconda3\\envs\\py310\\lib\\site-packages (from streamlit) (4.2)\n",
      "Requirement already satisfied: validators>=0.2 in c:\\users\\panos\\anaconda3\\envs\\py310\\lib\\site-packages (from streamlit) (0.20.0)\n",
      "Requirement already satisfied: pympler>=0.9 in c:\\users\\panos\\anaconda3\\envs\\py310\\lib\\site-packages (from streamlit) (1.0.1)\n",
      "Requirement already satisfied: semver in c:\\users\\panos\\anaconda3\\envs\\py310\\lib\\site-packages (from streamlit) (2.13.0)\n",
      "Requirement already satisfied: cachetools>=4.0 in c:\\users\\panos\\anaconda3\\envs\\py310\\lib\\site-packages (from streamlit) (5.3.0)\n",
      "Requirement already satisfied: tornado>=6.0.3 in c:\\users\\panos\\anaconda3\\envs\\py310\\lib\\site-packages (from streamlit) (6.2)\n",
      "Requirement already satisfied: protobuf<4,>=3.12 in c:\\users\\panos\\anaconda3\\envs\\py310\\lib\\site-packages (from streamlit) (3.19.6)\n",
      "Requirement already satisfied: gitpython!=3.1.19 in c:\\users\\panos\\anaconda3\\envs\\py310\\lib\\site-packages (from streamlit) (3.1.31)\n",
      "Collecting filelock\n",
      "  Downloading filelock-3.9.0-py3-none-any.whl (9.7 kB)\n",
      "Requirement already satisfied: six in c:\\users\\panos\\anaconda3\\envs\\py310\\lib\\site-packages (from gdown) (1.16.0)\n",
      "Requirement already satisfied: tqdm in c:\\users\\panos\\anaconda3\\envs\\py310\\lib\\site-packages (from gdown) (4.64.1)\n",
      "Requirement already satisfied: beautifulsoup4 in c:\\users\\panos\\anaconda3\\envs\\py310\\lib\\site-packages (from gdown) (4.11.1)\n",
      "Requirement already satisfied: entrypoints in c:\\users\\panos\\anaconda3\\envs\\py310\\lib\\site-packages (from altair<5,>=3.2.0->streamlit) (0.4)\n",
      "Requirement already satisfied: jinja2 in c:\\users\\panos\\anaconda3\\envs\\py310\\lib\\site-packages (from altair<5,>=3.2.0->streamlit) (3.1.2)\n",
      "Requirement already satisfied: toolz in c:\\users\\panos\\anaconda3\\envs\\py310\\lib\\site-packages (from altair<5,>=3.2.0->streamlit) (0.12.0)\n",
      "Requirement already satisfied: jsonschema>=3.0 in c:\\users\\panos\\anaconda3\\envs\\py310\\lib\\site-packages (from altair<5,>=3.2.0->streamlit) (4.16.0)\n",
      "Requirement already satisfied: colorama in c:\\users\\panos\\anaconda3\\envs\\py310\\lib\\site-packages (from click>=7.0->streamlit) (0.4.5)\n",
      "Requirement already satisfied: gitdb<5,>=4.0.1 in c:\\users\\panos\\anaconda3\\envs\\py310\\lib\\site-packages (from gitpython!=3.1.19->streamlit) (4.0.10)\n",
      "Requirement already satisfied: zipp>=0.5 in c:\\users\\panos\\anaconda3\\envs\\py310\\lib\\site-packages (from importlib-metadata>=1.4->streamlit) (3.15.0)\n",
      "Requirement already satisfied: pyparsing!=3.0.5,>=2.0.2 in c:\\users\\panos\\anaconda3\\envs\\py310\\lib\\site-packages (from packaging>=14.1->streamlit) (3.0.9)\n",
      "Requirement already satisfied: certifi>=2017.4.17 in c:\\users\\panos\\anaconda3\\envs\\py310\\lib\\site-packages (from requests>=2.4->streamlit) (2022.9.24)\n",
      "Requirement already satisfied: charset-normalizer<3,>=2 in c:\\users\\panos\\anaconda3\\envs\\py310\\lib\\site-packages (from requests>=2.4->streamlit) (2.1.1)\n",
      "Requirement already satisfied: urllib3<1.27,>=1.21.1 in c:\\users\\panos\\anaconda3\\envs\\py310\\lib\\site-packages (from requests>=2.4->streamlit) (1.26.13)\n",
      "Requirement already satisfied: idna<4,>=2.5 in c:\\users\\panos\\anaconda3\\envs\\py310\\lib\\site-packages (from requests>=2.4->streamlit) (3.4)\n",
      "Requirement already satisfied: markdown-it-py<3.0.0,>=2.2.0 in c:\\users\\panos\\anaconda3\\envs\\py310\\lib\\site-packages (from rich>=10.11.0->streamlit) (2.2.0)\n",
      "Requirement already satisfied: pygments<3.0.0,>=2.13.0 in c:\\users\\panos\\anaconda3\\envs\\py310\\lib\\site-packages (from rich>=10.11.0->streamlit) (2.14.0)\n",
      "Requirement already satisfied: tzdata in c:\\users\\panos\\anaconda3\\envs\\py310\\lib\\site-packages (from tzlocal>=1.1->streamlit) (2022.7)\n",
      "Requirement already satisfied: pytz-deprecation-shim in c:\\users\\panos\\anaconda3\\envs\\py310\\lib\\site-packages (from tzlocal>=1.1->streamlit) (0.1.0.post0)\n",
      "Requirement already satisfied: decorator>=3.4.0 in c:\\users\\panos\\anaconda3\\envs\\py310\\lib\\site-packages (from validators>=0.2->streamlit) (5.1.1)\n",
      "Requirement already satisfied: soupsieve>1.2 in c:\\users\\panos\\anaconda3\\envs\\py310\\lib\\site-packages (from beautifulsoup4->gdown) (2.3.2.post1)\n",
      "Collecting PySocks!=1.5.7,>=1.5.6\n",
      "  Downloading PySocks-1.7.1-py3-none-any.whl (16 kB)\n",
      "Requirement already satisfied: smmap<6,>=3.0.1 in c:\\users\\panos\\anaconda3\\envs\\py310\\lib\\site-packages (from gitdb<5,>=4.0.1->gitpython!=3.1.19->streamlit) (5.0.0)\n",
      "Requirement already satisfied: MarkupSafe>=2.0 in c:\\users\\panos\\anaconda3\\envs\\py310\\lib\\site-packages (from jinja2->altair<5,>=3.2.0->streamlit) (2.1.1)\n",
      "Requirement already satisfied: attrs>=17.4.0 in c:\\users\\panos\\anaconda3\\envs\\py310\\lib\\site-packages (from jsonschema>=3.0->altair<5,>=3.2.0->streamlit) (22.1.0)\n",
      "Requirement already satisfied: pyrsistent!=0.17.0,!=0.17.1,!=0.17.2,>=0.14.0 in c:\\users\\panos\\anaconda3\\envs\\py310\\lib\\site-packages (from jsonschema>=3.0->altair<5,>=3.2.0->streamlit) (0.18.0)\n",
      "Requirement already satisfied: mdurl~=0.1 in c:\\users\\panos\\anaconda3\\envs\\py310\\lib\\site-packages (from markdown-it-py<3.0.0,>=2.2.0->rich>=10.11.0->streamlit) (0.1.2)\n",
      "Installing collected packages: PySocks, filelock, currencyconverter, gdown\n",
      "Successfully installed PySocks-1.7.1 currencyconverter-0.17.5 filelock-3.9.0 gdown-4.6.4\n"
     ]
    }
   ],
   "source": [
    "%%capture\n",
    "!pip install numpy pandas streamlit gdown currencyconverter"
   ]
  },
  {
   "cell_type": "code",
   "execution_count": 3,
   "id": "c389549c",
   "metadata": {},
   "outputs": [
    {
     "name": "stderr",
     "output_type": "stream",
     "text": [
      "Downloading...\n",
      "From: https://drive.google.com/uc?id=13fyESiH1ZEnMV6eabAyhe20t4W6peEWK\n",
      "To: C:\\Users\\panos\\Desktop\\Personal\\Extra Knowledge\\Python For Data Science Course\\Projects\\WK1_Airbnb_Amsterdam_listings_proj.csv\n",
      "100%|████████████████████████████████████████████████████████████████████████████████| 246k/246k [00:00<00:00, 600kB/s]\n"
     ]
    },
    {
     "data": {
      "text/plain": [
       "'WK1_Airbnb_Amsterdam_listings_proj.csv'"
      ]
     },
     "execution_count": 3,
     "metadata": {},
     "output_type": "execute_result"
    }
   ],
   "source": [
    "import os\n",
    "import shutil\n",
    "import gdown\n",
    "\n",
    "import numpy as np\n",
    "from numpy import genfromtxt\n",
    "\n",
    "# For readability purposes, we will disable scientific notation for numbers\n",
    "np.set_printoptions(suppress=True)\n",
    "\n",
    "# Download file from Google Drive\n",
    "# This file is based on data from: http://insideairbnb.com/get-the-data/\n",
    "file_id_1 = \"13fyESiH1ZEnMV6eabAyhe20t4W6peEWK\"\n",
    "downloaded_file_1 = \"WK1_Airbnb_Amsterdam_listings_proj.csv\"\n",
    "\n",
    "# Download the file from Google Drive\n",
    "gdown.download(id=file_id_1, output=downloaded_file_1)"
   ]
  },
  {
   "cell_type": "markdown",
   "id": "440f8f37",
   "metadata": {},
   "source": [
    "## Preprocessing the Dataset"
   ]
  },
  {
   "cell_type": "code",
   "execution_count": 5,
   "id": "e2a0399f",
   "metadata": {},
   "outputs": [
    {
     "data": {
      "text/plain": [
       "array([['', '0', '1', '2'],\n",
       "       ['id', '23726706', '35815036', '31553121'],\n",
       "       ['price', '$88.00', '$105.00', '$152.00'],\n",
       "       ['latitude', '52.34916', '52.42419', '52.43237'],\n",
       "       ['longitude', '4.97879', '4.95689', '4.91821']], dtype='<U18')"
      ]
     },
     "execution_count": 5,
     "metadata": {},
     "output_type": "execute_result"
    }
   ],
   "source": [
    "#my_data[1:10] As we see,we find out that our delimiter is '|'\n",
    "my_data = genfromtxt(downloaded_file_1,delimiter='|',dtype='unicode')\n",
    "\n",
    "#Check our first four columns\n",
    "my_data[:5,:4]"
   ]
  },
  {
   "cell_type": "code",
   "execution_count": 6,
   "id": "b1dc2992",
   "metadata": {},
   "outputs": [
    {
     "data": {
      "text/plain": [
       "array([['23726706', '35815036', '31553121', '34745823'],\n",
       "       ['$88.00', '$105.00', '$152.00', '$87.00'],\n",
       "       ['52.34916', '52.42419', '52.43237', '52.2962'],\n",
       "       ['4.97879', '4.95689', '4.91821', '5.01231']], dtype='<U18')"
      ]
     },
     "execution_count": 6,
     "metadata": {},
     "output_type": "execute_result"
    }
   ],
   "source": [
    "# Remove the first column and row, because we don't need them\n",
    "matrix = np.delete(my_data,0,axis=0)\n",
    "matrix = np.delete(matrix,0,axis=1)\n",
    "\n",
    "# Print out the first four columns\n",
    "matrix[:5,:4]"
   ]
  },
  {
   "cell_type": "code",
   "execution_count": 7,
   "id": "3f5d6a01",
   "metadata": {},
   "outputs": [
    {
     "data": {
      "text/plain": [
       "array([['23726706', '$88.00', '52.34916', '4.97879'],\n",
       "       ['35815036', '$105.00', '52.42419', '4.95689'],\n",
       "       ['31553121', '$152.00', '52.43237', '4.91821'],\n",
       "       ['34745823', '$87.00', '52.2962', '5.01231'],\n",
       "       ['44586947', '$160.00', '52.31475', '5.0303']], dtype='<U18')"
      ]
     },
     "execution_count": 7,
     "metadata": {},
     "output_type": "execute_result"
    }
   ],
   "source": [
    "# Shift the matrix by 90 degrees\n",
    "matrix = matrix.transpose()\n",
    "\n",
    "# Print out the first five rows\n",
    "# Entries: airbnb_id, price_usd, latitude, longitude\n",
    "matrix[:5,:4]"
   ]
  },
  {
   "cell_type": "markdown",
   "id": "6ace0fce",
   "metadata": {},
   "source": [
    "String characters like commas and dollar signs are yet again present in the dataset.So we remove them"
   ]
  },
  {
   "cell_type": "code",
   "execution_count": 10,
   "id": "5a6d1cd0",
   "metadata": {},
   "outputs": [
    {
     "data": {
      "text/plain": [
       "array([], dtype='<U18')"
      ]
     },
     "execution_count": 10,
     "metadata": {},
     "output_type": "execute_result"
    }
   ],
   "source": [
    "# Remove the dollar sign\n",
    "matrix = np.char.replace(matrix,'$','')\n",
    "\n",
    "# Remove the comma\n",
    "matrix = np.char.replace(matrix,',','')"
   ]
  },
  {
   "cell_type": "code",
   "execution_count": 11,
   "id": "8bd620ae",
   "metadata": {},
   "outputs": [
    {
     "data": {
      "text/plain": [
       "array([], dtype='<U18')"
      ]
     },
     "execution_count": 11,
     "metadata": {},
     "output_type": "execute_result"
    }
   ],
   "source": [
    "# Check if the dollar sign is in our dataset\n",
    "matrix[np.char.find(matrix,'$')>-1]"
   ]
  },
  {
   "cell_type": "code",
   "execution_count": 12,
   "id": "586a25d7",
   "metadata": {},
   "outputs": [
    {
     "data": {
      "text/plain": [
       "array([], dtype='<U18')"
      ]
     },
     "execution_count": 12,
     "metadata": {},
     "output_type": "execute_result"
    }
   ],
   "source": [
    "# Check if the comma sign is in our dataset\n",
    "matrix[np.char.find(matrix,',')>-1]"
   ]
  },
  {
   "cell_type": "markdown",
   "id": "9ccb48da",
   "metadata": {},
   "source": [
    "Enabling numerical operations (calculations) requires you to change the `dtype` from string/Unicode characters to float of 32-bit precision"
   ]
  },
  {
   "cell_type": "code",
   "execution_count": 13,
   "id": "4fd5705f",
   "metadata": {},
   "outputs": [
    {
     "data": {
      "text/plain": [
       "array([[23726706.     ,       88.     ,       52.34916,        4.97879],\n",
       "       [35815036.     ,      105.     ,       52.42419,        4.95689],\n",
       "       [31553120.     ,      152.     ,       52.43237,        4.91821],\n",
       "       [34745824.     ,       87.     ,       52.2962 ,        5.01231],\n",
       "       [44586948.     ,      160.     ,       52.31475,        5.0303 ]],\n",
       "      dtype=float32)"
      ]
     },
     "execution_count": 13,
     "metadata": {},
     "output_type": "execute_result"
    }
   ],
   "source": [
    "# Change Unicode to float32\n",
    "matrix = matrix.astype('float32')\n",
    "\n",
    "# Print out the first five rows (and inspect the dtype for correctness)\n",
    "# Entries: airbnb_id, price_usd, latitude, longitude\n",
    "matrix[:5,:4]"
   ]
  },
  {
   "cell_type": "markdown",
   "id": "fb834776",
   "metadata": {},
   "source": [
    "## Pick the right price\n",
    "\n",
    "Our next objective is to change the currency from US dollars to another currency. This can be any currency you like, except for the US dollar. Let's first import the library that helps us to make these conversions. Then let's have another look at the first 5 rows of our matrix."
   ]
  },
  {
   "cell_type": "code",
   "execution_count": 14,
   "id": "30e9fc75",
   "metadata": {},
   "outputs": [
    {
     "data": {
      "text/plain": [
       "array([[23726706.     ,       88.     ,       52.34916,        4.97879],\n",
       "       [35815036.     ,      105.     ,       52.42419,        4.95689],\n",
       "       [31553120.     ,      152.     ,       52.43237,        4.91821],\n",
       "       [34745824.     ,       87.     ,       52.2962 ,        5.01231],\n",
       "       [44586948.     ,      160.     ,       52.31475,        5.0303 ]],\n",
       "      dtype=float32)"
      ]
     },
     "execution_count": 14,
     "metadata": {},
     "output_type": "execute_result"
    }
   ],
   "source": [
    "from currency_converter import CurrencyConverter\n",
    "\n",
    "cc = CurrencyConverter()\n",
    "\n",
    "# Entries: airbnb_id, price_usd, latitude, longitude\n",
    "matrix[:5,:]"
   ]
  },
  {
   "cell_type": "code",
   "execution_count": null,
   "id": "b1eabf2a",
   "metadata": {},
   "outputs": [],
   "source": [
    "# Change Unicode to float32\n",
    "matrix = matrix.astype('float32')\n",
    "\n",
    "# Print out the first five rows (and inspect the dtype for correctness)\n",
    "# Entries: airbnb_id, price_usd, latitude, longitude\n",
    "matrix[:5,:4]"
   ]
  },
  {
   "cell_type": "code",
   "execution_count": 18,
   "id": "e494ff5a",
   "metadata": {},
   "outputs": [
    {
     "data": {
      "text/plain": [
       "{'AUD',\n",
       " 'BGN',\n",
       " 'BRL',\n",
       " 'CAD',\n",
       " 'CHF',\n",
       " 'CNY',\n",
       " 'CYP',\n",
       " 'CZK',\n",
       " 'DKK',\n",
       " 'EEK',\n",
       " 'EUR',\n",
       " 'GBP',\n",
       " 'HKD',\n",
       " 'HRK',\n",
       " 'HUF',\n",
       " 'IDR',\n",
       " 'ILS',\n",
       " 'INR',\n",
       " 'ISK',\n",
       " 'JPY',\n",
       " 'KRW',\n",
       " 'LTL',\n",
       " 'LVL',\n",
       " 'MTL',\n",
       " 'MXN',\n",
       " 'MYR',\n",
       " 'NOK',\n",
       " 'NZD',\n",
       " 'PHP',\n",
       " 'PLN',\n",
       " 'ROL',\n",
       " 'RON',\n",
       " 'RUB',\n",
       " 'SEK',\n",
       " 'SGD',\n",
       " 'SIT',\n",
       " 'SKK',\n",
       " 'THB',\n",
       " 'TRL',\n",
       " 'TRY',\n",
       " 'USD',\n",
       " 'ZAR'}"
      ]
     },
     "execution_count": 18,
     "metadata": {},
     "output_type": "execute_result"
    }
   ],
   "source": [
    "#The tool we are using has a total of 42 currencies.\n",
    "#Check them below and chose one\n",
    "cc.currencies"
   ]
  },
  {
   "cell_type": "code",
   "execution_count": 16,
   "id": "ef633a4f",
   "metadata": {},
   "outputs": [
    {
     "data": {
      "text/plain": [
       "array([ 81.37599,  97.09636, 140.55853, ..., 166.4509 , 160.90253,\n",
       "        60.10727], dtype=float32)"
      ]
     },
     "execution_count": 16,
     "metadata": {},
     "output_type": "execute_result"
    }
   ],
   "source": [
    "#The currency conversion calculations we will be performing should be applied to the second column.\n",
    "eur_rate = cc.convert(1,\"USD\",\"EUR\")\n",
    "matrix[:,1]*eur_rate"
   ]
  },
  {
   "cell_type": "code",
   "execution_count": 19,
   "id": "1c16d49c",
   "metadata": {},
   "outputs": [
    {
     "data": {
      "text/plain": [
       "array([ 95.48   , 113.925  , 164.92001, ..., 195.3    , 188.79001,\n",
       "        70.525  ], dtype=float32)"
      ]
     },
     "execution_count": 19,
     "metadata": {},
     "output_type": "execute_result"
    }
   ],
   "source": [
    "# Multiply the dollar column by the inflation percentage (1.00 + inflation)\n",
    "#Inflation rate for Euro is 8.5 (Feb 2023)\n",
    "inflation = 0.085\n",
    "matrix[:, 1] = matrix[:,1] * (1 + inflation)\n",
    "matrix[:, 1]\n",
    "\n",
    "# Round down the new currency column to 2 decimals\n",
    "matrix[:,1] = np.around(matrix[:,1],2)"
   ]
  },
  {
   "cell_type": "markdown",
   "id": "357affc4",
   "metadata": {},
   "source": [
    "# Let's prepare our dataset for Streamlit App"
   ]
  },
  {
   "cell_type": "markdown",
   "id": "403a0ce3",
   "metadata": {},
   "source": [
    "## Choose our desired location we want to stay in Amsterdam\n",
    "\n",
    "##### >Find coordinates in Google"
   ]
  },
  {
   "cell_type": "code",
   "execution_count": 21,
   "id": "f5b45bee",
   "metadata": {},
   "outputs": [],
   "source": [
    "# Desired location\n",
    "latitude = 52.356498574\n",
    "longitude = 4.819330056"
   ]
  },
  {
   "cell_type": "markdown",
   "id": "97ba8e67",
   "metadata": {},
   "source": [
    "## Listing All Listings\n",
    "\n",
    "<center>\n",
    "  <img src=https://images0.persgroep.net/rcs/vnd5KBhggcKV72YJjpLWH_-xljU/diocontent/131036963/_crop/34/170/1378/778/_fitwidth/763?appId=93a17a8fd81db0de025c8abd1cca1279&quality=0.8&desiredformat=webp width=\"500\" align=\"center\" />\n",
    "</center>\n",
    "\n",
    "\n",
    "Imagine Airbnb Amsterdam decided to deviate from Airbnb Global and provide a feature on their website that showed the best listings for you based on the locations you were planning to visit. Wouldn't it make sense to choose a place to stay in a location closest to where you're likely to go most often?"
   ]
  },
  {
   "cell_type": "code",
   "execution_count": 22,
   "id": "9290946b",
   "metadata": {},
   "outputs": [],
   "source": [
    "# Change altitude and longitude coordinates to meters\n",
    "\n",
    "def from_location_to_airbnb_listing_in_meters(lat1: float, lon1: float, lat2: list, lon2: list):   \n",
    "    R = 6371000  # Radius of Earth in meters\n",
    "    phi_1 = np.radians(lat1) \n",
    "    phi_2 = np.radians(lat2) \n",
    "\n",
    "    delta_phi = np.radians(lat2 - lat1)\n",
    "    delta_lambda = np.radians(lon2 - lon1) \n",
    "\n",
    "    a = (\n",
    "        np.sin(delta_phi / 2.0) ** 2\n",
    "        + np.cos(phi_1) * np.cos(phi_2) * np.sin(delta_lambda / 2.0) ** 2 \n",
    "    )\n",
    "\n",
    "    c = 2 * np.arctan2(np.sqrt(a), np.sqrt(1 - a)) \n",
    "\n",
    "    meters = R * c  # Output distance in meters\n",
    "\n",
    "    return np.around(meters, 0)"
   ]
  },
  {
   "cell_type": "code",
   "execution_count": 23,
   "id": "f1b5d785",
   "metadata": {},
   "outputs": [
    {
     "data": {
      "text/plain": [
       "array([10861., 11991., 10779., ...,  9585.,  5108.,  9574.])"
      ]
     },
     "execution_count": 23,
     "metadata": {},
     "output_type": "execute_result"
    }
   ],
   "source": [
    "# Run the converted NumPy method and check if it works\n",
    "convertToMeters = np.vectorize(from_location_to_airbnb_listing_in_meters)\n",
    "convertToMeters(latitude,longitude,matrix[:,2],matrix[:,3])"
   ]
  },
  {
   "cell_type": "code",
   "execution_count": 24,
   "id": "f52a761a",
   "metadata": {},
   "outputs": [],
   "source": [
    "meters = from_location_to_airbnb_listing_in_meters( latitude, longitude, matrix[:, 2], matrix[:, 3])\n",
    "\n",
    "# Add an axis to make concatenation possible\n",
    "meters = meters.reshape(-1, 1)\n",
    "\n",
    "# Append the distance in meters to the matrix\n",
    "matrix = np.concatenate((matrix, meters), axis=1)"
   ]
  },
  {
   "cell_type": "code",
   "execution_count": 25,
   "id": "108f746b",
   "metadata": {},
   "outputs": [
    {
     "data": {
      "text/plain": [
       "array([[       1.        ,        0.        ,       52.35649857,\n",
       "               4.81933006,        0.        ,        1.        ],\n",
       "       [23726706.        ,       95.48000336,       52.34915924,\n",
       "               4.97878981,    10861.        ,        0.        ],\n",
       "       [35815036.        ,      113.91999817,       52.42419052,\n",
       "               4.95689011,    11991.        ,        0.        ],\n",
       "       [31553120.        ,      164.91999817,       52.43236923,\n",
       "               4.91821003,    10779.        ,        0.        ],\n",
       "       [34745824.        ,       94.40000153,       52.2961998 ,\n",
       "               5.01231003,    14729.        ,        0.        ]])"
      ]
     },
     "execution_count": 25,
     "metadata": {},
     "output_type": "execute_result"
    }
   ],
   "source": [
    "# Append a color to the matrix in order to color distance from our place\n",
    "colors = np.zeros(meters.shape)\n",
    "matrix = np.concatenate((matrix, colors), axis=1)\n",
    "\n",
    "# Append our entry to the matrix\n",
    "fav_entry = np.array([1, 0, 52.356498574, 4.819330056, 0, 1]).reshape(1, -1) # Change coordinates to your favorite location\n",
    "matrix = np.concatenate((fav_entry, matrix), axis=0)\n",
    "\n",
    "# Entries: airbnb_id, price, latitude, longitude,\n",
    "# meters from favorite point, color\n",
    "matrix[:5, :]"
   ]
  },
  {
   "cell_type": "code",
   "execution_count": null,
   "id": "81847523",
   "metadata": {},
   "outputs": [],
   "source": [
    "# Export the data to use in the primer for next week\n",
    "np.savetxt(\"WK1_Airbnb_Amsterdam_listings_proj_solution.csv\", matrix, delimiter=\",\")"
   ]
  },
  {
   "cell_type": "markdown",
   "id": "5bad649f",
   "metadata": {},
   "source": [
    "### Download the Dataset to Our Local Machine!\n",
    "\n",
    "Google Colab comes with its own Python packages, allowing us to quickly download generated files like so:"
   ]
  },
  {
   "cell_type": "code",
   "execution_count": null,
   "id": "99eea5de",
   "metadata": {},
   "outputs": [],
   "source": [
    "from google.colab import files\n",
    "\n",
    "# Download the file locally\n",
    "files.download('WK1_Airbnb_Amsterdam_listings_proj_solution.csv')"
   ]
  }
 ],
 "metadata": {
  "kernelspec": {
   "display_name": "Python 3 (ipykernel)",
   "language": "python",
   "name": "python3"
  },
  "language_info": {
   "codemirror_mode": {
    "name": "ipython",
    "version": 3
   },
   "file_extension": ".py",
   "mimetype": "text/x-python",
   "name": "python",
   "nbconvert_exporter": "python",
   "pygments_lexer": "ipython3",
   "version": "3.10.8"
  }
 },
 "nbformat": 4,
 "nbformat_minor": 5
}
